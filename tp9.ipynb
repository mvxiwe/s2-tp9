{
  "cells": [
    {
      "cell_type": "markdown",
      "metadata": {
        "id": "view-in-github",
        "colab_type": "text"
      },
      "source": [
        "<a href=\"https://colab.research.google.com/github/mvxiwe/s2-tp9/blob/main/tp9.ipynb\" target=\"_parent\"><img src=\"https://colab.research.google.com/assets/colab-badge.svg\" alt=\"Open In Colab\"/></a>"
      ]
    },
    {
      "cell_type": "markdown",
      "id": "7bb6e9ce",
      "metadata": {
        "id": "7bb6e9ce"
      },
      "source": [
        ">Ouvrir le notebook dans Colab en modifiant le début de son adresse dans le navigateur :<br>\n",
        "il faut remplacer **github.com** par **githubtocolab.com**.<br>\n",
        "Une fois vos réponses apportées, le notebook devra être sauvegardé dans GitHub, dans le repository du TP :<br>\n",
        "*Fichier > Enregistrer une copie dans Github*<br>\n",
        "*Info-TSI-Vieljeux/tpx-votre_nom*<br>\n",
        "\n",
        "---"
      ]
    },
    {
      "cell_type": "markdown",
      "id": "fd33ab67",
      "metadata": {
        "deletable": false,
        "editable": false,
        "nbgrader": {
          "cell_type": "markdown",
          "checksum": "8fe81c9f0a78035af2fc82aa338f0630",
          "grade": false,
          "grade_id": "cell-89e844da7c504e57",
          "locked": true,
          "schema_version": 3,
          "solution": false,
          "task": false
        },
        "id": "fd33ab67"
      },
      "source": [
        "# TP9 : nombres"
      ]
    },
    {
      "cell_type": "markdown",
      "id": "827bd9d2",
      "metadata": {
        "deletable": false,
        "editable": false,
        "nbgrader": {
          "cell_type": "markdown",
          "checksum": "2f2481016679e579dd3421edea47a3aa",
          "grade": false,
          "grade_id": "cell-abf1957ca67d62e7",
          "locked": true,
          "schema_version": 3,
          "solution": false,
          "task": false
        },
        "id": "827bd9d2"
      },
      "source": [
        "## Exo 1 : nombres palindromiques"
      ]
    },
    {
      "cell_type": "markdown",
      "id": "51fe8e78",
      "metadata": {
        "deletable": false,
        "editable": false,
        "nbgrader": {
          "cell_type": "markdown",
          "checksum": "4eb82d0d42906fd793b19978b6f1d2dd",
          "grade": false,
          "grade_id": "cell-2930edbaba5ac675",
          "locked": true,
          "schema_version": 3,
          "solution": false,
          "task": false
        },
        "id": "51fe8e78"
      },
      "source": [
        "Déterminer grâce à un code Python le plus petit nombre supérieur ou égal à $10\\,000$ dont l'écriture est palindromique (se lisant pareil dans les deux sens) à la fois en base 10 et en base 2."
      ]
    },
    {
      "cell_type": "code",
      "source": [
        "def palindrome1(decimal):\n",
        "  if decimal[::-1]==decimal :\n",
        "    a = int(decimal)\n",
        "    if bin(a)[2:][::-1]==bin(a)[2:] :\n",
        "      return(True)\n",
        "  else :\n",
        "    return(False)"
      ],
      "metadata": {
        "id": "6m0_S6-8zlW_"
      },
      "id": "6m0_S6-8zlW_",
      "execution_count": 129,
      "outputs": []
    },
    {
      "cell_type": "code",
      "source": [
        "palindrome1('15350')"
      ],
      "metadata": {
        "id": "SdxHmHWJ0obE",
        "outputId": "f8c5cf96-f1f3-4946-a071-ea5cad45a71f",
        "colab": {
          "base_uri": "https://localhost:8080/"
        }
      },
      "id": "SdxHmHWJ0obE",
      "execution_count": 131,
      "outputs": [
        {
          "output_type": "execute_result",
          "data": {
            "text/plain": [
              "False"
            ]
          },
          "metadata": {},
          "execution_count": 131
        }
      ]
    },
    {
      "cell_type": "code",
      "execution_count": 135,
      "id": "45857924",
      "metadata": {
        "deletable": false,
        "nbgrader": {
          "cell_type": "code",
          "checksum": "739a232c63927652b73409fb6ea60870",
          "grade": false,
          "grade_id": "cell-ced17634761ead5e",
          "locked": false,
          "schema_version": 3,
          "solution": true,
          "task": false
        },
        "id": "45857924"
      },
      "outputs": [],
      "source": [
        "def palindrome2():\n",
        "  a = 10000\n",
        "  decimal = 'a'\n",
        "  while a < 20000 :\n",
        "    if decimal[::-1]==decimal :\n",
        "      if bin(a)[2:][::-1]==bin(a)[2:] :\n",
        "        return(a)\n",
        "    else :\n",
        "      a += 1"
      ]
    },
    {
      "cell_type": "code",
      "source": [
        "palindrome2()"
      ],
      "metadata": {
        "id": "HK7snDFJDWfm",
        "outputId": "b504525a-fd74-45be-8036-f50ecd125846",
        "colab": {
          "base_uri": "https://localhost:8080/",
          "height": 287
        }
      },
      "id": "HK7snDFJDWfm",
      "execution_count": 136,
      "outputs": [
        {
          "output_type": "error",
          "ename": "KeyboardInterrupt",
          "evalue": "ignored",
          "traceback": [
            "\u001b[0;31m---------------------------------------------------------------------------\u001b[0m",
            "\u001b[0;31mKeyboardInterrupt\u001b[0m                         Traceback (most recent call last)",
            "\u001b[0;32m<ipython-input-136-7399762ce4df>\u001b[0m in \u001b[0;36m<module>\u001b[0;34m()\u001b[0m\n\u001b[0;32m----> 1\u001b[0;31m \u001b[0mpalindrome2\u001b[0m\u001b[0;34m(\u001b[0m\u001b[0;34m)\u001b[0m\u001b[0;34m\u001b[0m\u001b[0;34m\u001b[0m\u001b[0m\n\u001b[0m",
            "\u001b[0;32m<ipython-input-135-31e4115acb14>\u001b[0m in \u001b[0;36mpalindrome2\u001b[0;34m()\u001b[0m\n\u001b[1;32m      4\u001b[0m   \u001b[0;32mwhile\u001b[0m \u001b[0ma\u001b[0m \u001b[0;34m<\u001b[0m \u001b[0;36m20000\u001b[0m \u001b[0;34m:\u001b[0m\u001b[0;34m\u001b[0m\u001b[0;34m\u001b[0m\u001b[0m\n\u001b[1;32m      5\u001b[0m     \u001b[0;32mif\u001b[0m \u001b[0mdecimal\u001b[0m\u001b[0;34m[\u001b[0m\u001b[0;34m:\u001b[0m\u001b[0;34m:\u001b[0m\u001b[0;34m-\u001b[0m\u001b[0;36m1\u001b[0m\u001b[0;34m]\u001b[0m\u001b[0;34m==\u001b[0m\u001b[0mdecimal\u001b[0m \u001b[0;34m:\u001b[0m\u001b[0;34m\u001b[0m\u001b[0;34m\u001b[0m\u001b[0m\n\u001b[0;32m----> 6\u001b[0;31m       \u001b[0;32mif\u001b[0m \u001b[0mbin\u001b[0m\u001b[0;34m(\u001b[0m\u001b[0ma\u001b[0m\u001b[0;34m)\u001b[0m\u001b[0;34m[\u001b[0m\u001b[0;36m2\u001b[0m\u001b[0;34m:\u001b[0m\u001b[0;34m]\u001b[0m\u001b[0;34m[\u001b[0m\u001b[0;34m:\u001b[0m\u001b[0;34m:\u001b[0m\u001b[0;34m-\u001b[0m\u001b[0;36m1\u001b[0m\u001b[0;34m]\u001b[0m\u001b[0;34m==\u001b[0m\u001b[0mbin\u001b[0m\u001b[0;34m(\u001b[0m\u001b[0ma\u001b[0m\u001b[0;34m)\u001b[0m\u001b[0;34m[\u001b[0m\u001b[0;36m2\u001b[0m\u001b[0;34m:\u001b[0m\u001b[0;34m]\u001b[0m \u001b[0;34m:\u001b[0m\u001b[0;34m\u001b[0m\u001b[0;34m\u001b[0m\u001b[0m\n\u001b[0m\u001b[1;32m      7\u001b[0m         \u001b[0;32mreturn\u001b[0m\u001b[0;34m(\u001b[0m\u001b[0ma\u001b[0m\u001b[0;34m)\u001b[0m\u001b[0;34m\u001b[0m\u001b[0;34m\u001b[0m\u001b[0m\n\u001b[1;32m      8\u001b[0m     \u001b[0;32melse\u001b[0m \u001b[0;34m:\u001b[0m\u001b[0;34m\u001b[0m\u001b[0;34m\u001b[0m\u001b[0m\n",
            "\u001b[0;31mKeyboardInterrupt\u001b[0m: "
          ]
        }
      ]
    },
    {
      "cell_type": "code",
      "execution_count": null,
      "id": "3012f939",
      "metadata": {
        "id": "3012f939"
      },
      "outputs": [],
      "source": [
        "# Affectez votre réponse (l'écriture en base 10 du nombre entier trouvé) à la variable nb\n",
        "nb = 3"
      ]
    },
    {
      "cell_type": "code",
      "execution_count": null,
      "id": "6c99e527",
      "metadata": {
        "deletable": false,
        "editable": false,
        "nbgrader": {
          "cell_type": "code",
          "checksum": "854694ba610fa669b52e16fafa811dee",
          "grade": true,
          "grade_id": "cell-eb8c03b36d488d0b",
          "locked": true,
          "points": 1,
          "schema_version": 3,
          "solution": false,
          "task": false
        },
        "id": "6c99e527"
      },
      "outputs": [],
      "source": [
        "# Cellule d'évaluation, ne pas modifier"
      ]
    },
    {
      "cell_type": "markdown",
      "id": "ef14d4e6",
      "metadata": {
        "id": "ef14d4e6"
      },
      "source": [
        "## Exo 2 : missiles Patriot"
      ]
    },
    {
      "cell_type": "markdown",
      "id": "d9976cb9",
      "metadata": {
        "id": "d9976cb9"
      },
      "source": [
        "Une batterie de missiles Patriot détecte les missiles ennemis et les intercepte avec un contre-missile. La batterie mesure le temps pour prévoir le déplacement des missiles ennemis.<br>\n",
        "Elle dispose d’un compteur (un entier) que nous appellerons `c` qui compte le nombre de dixièmes de secondes écoulés depuis sa mise en marche. Le temps écoulé `t` est calculé par l’opération `t=c*0.1`. Nous nous intéressons à l’erreur de calcul commise lors de cette multiplication.<br>\n",
        "D’après un [rapport du General Accounting Office](https://www.gao.gov/assets/220/215614.pdf), le logiciel du Patriot utilise des nombres à virgule fixe stockés dans un registre de 24 bits.<br>\n",
        "La représentation en virgule fixe utilisée est le format $Q1.23$ où seulement 1 bit est utilisé pour la partie entière et 23 bits le sont pour la partie fractionnaire.<br>La partie fractionnaire d'un réel $\\{x\\}=x-\\lfloor x\\rfloor$ est stockée sur les 23 bits en la transformant en l'entier $\\lfloor \\{x\\}\\times 2^{23}\\rfloor$ (où $\\lfloor\\rfloor$ est la partie entière), les chiffres au delà du 23<sup>ème</sup> après la virgule sont donc tronqués.<br>"
      ]
    },
    {
      "cell_type": "markdown",
      "id": "a4ad6011",
      "metadata": {
        "id": "a4ad6011"
      },
      "source": [
        "![](https://defenceview.in/wp-content/uploads/2021/03/Patriot-Air-Defense-System-Germany.jpg)"
      ]
    },
    {
      "cell_type": "markdown",
      "id": "d3a57c3e",
      "metadata": {
        "id": "d3a57c3e"
      },
      "source": [
        "Écrivez en base 2 le nombre 0,1 en ne gardant que 24 chiffres (23 après la virgule). On notera $z$ le nombre obtenu.<br>\n",
        "Vous pourrez vous aidez du code suivant (après l'avoir modifié de manière adéquate) pour déterminer la réponse ou utiliser la dernière phrase de l'énoncé (mais attention alors au petit piège)."
      ]
    },
    {
      "cell_type": "code",
      "execution_count": null,
      "id": "2d0a0e81",
      "metadata": {
        "id": "2d0a0e81"
      },
      "outputs": [],
      "source": [
        "a = 2.7\n",
        "avt = bin(int(a))[2:] + ','\n",
        "n = a - int(a)\n",
        "apres = ''\n",
        "while len(apres)<9 :\n",
        "    n *= 2\n",
        "    if n > 1 :\n",
        "        apres += '1'\n",
        "        n -= 1\n",
        "    else :\n",
        "        apres += '0'\n",
        "print(avt+apres)"
      ]
    },
    {
      "cell_type": "code",
      "execution_count": null,
      "id": "974af313",
      "metadata": {
        "id": "974af313"
      },
      "outputs": [],
      "source": [
        "# Affectez à la variable z la chaîne de caractères correspondant à l'écriture binaire demandée :\n",
        "z = '0,...'"
      ]
    },
    {
      "cell_type": "code",
      "execution_count": null,
      "id": "ab205dd2",
      "metadata": {
        "deletable": false,
        "editable": false,
        "nbgrader": {
          "cell_type": "code",
          "checksum": "3e00915b329f2d2455cc66c6bf1104a6",
          "grade": true,
          "grade_id": "cell-e864ca487ad15990",
          "locked": true,
          "points": 1,
          "schema_version": 3,
          "solution": false,
          "task": false
        },
        "id": "ab205dd2"
      },
      "outputs": [],
      "source": [
        "# Cellule d'évaluation, ne pas modifier"
      ]
    },
    {
      "cell_type": "markdown",
      "id": "9de5988b",
      "metadata": {
        "deletable": false,
        "editable": false,
        "nbgrader": {
          "cell_type": "markdown",
          "checksum": "5172925ec27ee414f91b2bc764e78a21",
          "grade": false,
          "grade_id": "cell-f0c1ee15a52cce68",
          "locked": true,
          "schema_version": 3,
          "solution": false,
          "task": false
        },
        "id": "9de5988b"
      },
      "source": [
        "On note $\\varepsilon = |0,1 − z|$. La batterie de missiles Patriot fait une erreur de $\\varepsilon$ en approximant 0,1.<br>\n",
        "Faites calculer par Python la valeur de $\\varepsilon$ et affectez cette valeur à une variable epsilon."
      ]
    },
    {
      "cell_type": "code",
      "execution_count": null,
      "id": "aba93f14",
      "metadata": {
        "id": "aba93f14"
      },
      "outputs": [],
      "source": [
        "epsilon = "
      ]
    },
    {
      "cell_type": "code",
      "execution_count": null,
      "id": "e04b207f",
      "metadata": {
        "deletable": false,
        "editable": false,
        "nbgrader": {
          "cell_type": "code",
          "checksum": "10bf8d31cc11707b3deccebbd8eaa522",
          "grade": true,
          "grade_id": "cell-35bf475146e10a88",
          "locked": true,
          "points": 1,
          "schema_version": 3,
          "solution": false,
          "task": false
        },
        "id": "e04b207f"
      },
      "outputs": [],
      "source": [
        "# Cellule d'évaluation, ne pas modifier"
      ]
    },
    {
      "cell_type": "markdown",
      "id": "8afcb3e5",
      "metadata": {
        "deletable": false,
        "editable": false,
        "nbgrader": {
          "cell_type": "markdown",
          "checksum": "f22a97f7899a5d302efbbc4a3f812ae8",
          "grade": false,
          "grade_id": "cell-74d41d9fe191d402",
          "locked": true,
          "schema_version": 3,
          "solution": false,
          "task": false
        },
        "id": "8afcb3e5"
      },
      "source": [
        "Début février 1991, l’armée israélienne a empiriquement constaté qu’au bout de 8h, la précision des missiles est significativement réduite. Puis, le 25 février 1991, six batteries de missiles Patriot (un bataillon) ont été déployées à Dhahran, en Arabie Saoudite, pendant 100h. "
      ]
    },
    {
      "cell_type": "markdown",
      "id": "2483fe50",
      "metadata": {
        "deletable": false,
        "editable": false,
        "nbgrader": {
          "cell_type": "markdown",
          "checksum": "889c98b896069ef1dabcc8cdacf6b47d",
          "grade": false,
          "grade_id": "cell-10a1aff773d09608",
          "locked": true,
          "schema_version": 3,
          "solution": false,
          "task": false
        },
        "id": "2483fe50"
      },
      "source": [
        "Nous noterons $e_8$ et $e_{100}$ l’erreur commise sur $t$ par la batterie au bout de 8h puis au bout de 100h.<br>\n",
        "Calculez des deux erreurs précédentes. "
      ]
    },
    {
      "cell_type": "code",
      "execution_count": null,
      "id": "04e8a781",
      "metadata": {
        "id": "04e8a781"
      },
      "outputs": [],
      "source": [
        "e_8 = \n",
        "e_100 = "
      ]
    },
    {
      "cell_type": "code",
      "execution_count": null,
      "id": "79e7b1db",
      "metadata": {
        "deletable": false,
        "editable": false,
        "nbgrader": {
          "cell_type": "code",
          "checksum": "8ea69ce088341cd200d64d4a5ecbd330",
          "grade": true,
          "grade_id": "cell-e35fe445815deaee",
          "locked": true,
          "points": 1,
          "schema_version": 3,
          "solution": false,
          "task": false
        },
        "id": "79e7b1db"
      },
      "outputs": [],
      "source": [
        "# Cellule d'évaluation, ne pas modifier"
      ]
    },
    {
      "cell_type": "markdown",
      "id": "45657b0d",
      "metadata": {
        "deletable": false,
        "editable": false,
        "nbgrader": {
          "cell_type": "markdown",
          "checksum": "24402e760db4d966cba912b9535c9538",
          "grade": false,
          "grade_id": "cell-50d63584bfd31c5d",
          "locked": true,
          "schema_version": 3,
          "solution": false,
          "task": false
        },
        "id": "45657b0d"
      },
      "source": [
        "Un Scud a une vitesse de croisière de 1676 m/s (Mach 5).<br>\n",
        "Pendant une durée $e_{100}$, de quelle distance $d$ (en m) se déplace un Scud ? "
      ]
    },
    {
      "cell_type": "code",
      "execution_count": null,
      "id": "979cf55e",
      "metadata": {
        "id": "979cf55e"
      },
      "outputs": [],
      "source": [
        "d ="
      ]
    },
    {
      "cell_type": "code",
      "execution_count": null,
      "id": "53f13598",
      "metadata": {
        "deletable": false,
        "editable": false,
        "nbgrader": {
          "cell_type": "code",
          "checksum": "10a84c26fdbcd1643034040b539219c7",
          "grade": true,
          "grade_id": "cell-7056c060b164b1c0",
          "locked": true,
          "points": 1,
          "schema_version": 3,
          "solution": false,
          "task": false
        },
        "id": "53f13598"
      },
      "outputs": [],
      "source": [
        "# Cellule d'évaluation, ne pas modifier"
      ]
    },
    {
      "cell_type": "markdown",
      "id": "3ffba63a",
      "metadata": {
        "deletable": false,
        "editable": false,
        "nbgrader": {
          "cell_type": "markdown",
          "checksum": "3fb764188992767d2d163c585ffad09f",
          "grade": false,
          "grade_id": "cell-411a2baa3ad436ed",
          "locked": true,
          "schema_version": 3,
          "solution": false,
          "task": false
        },
        "id": "3ffba63a"
      },
      "source": [
        "Suite à cette imprécision, un Scud irakien ne fut pas intercepté et causa 28 morts parmi les soldats américains."
      ]
    },
    {
      "cell_type": "markdown",
      "id": "c79c104a",
      "metadata": {
        "deletable": false,
        "editable": false,
        "nbgrader": {
          "cell_type": "markdown",
          "checksum": "1e24c412b9925397b0829576b888e800",
          "grade": false,
          "grade_id": "cell-63e64c42d5314e1d",
          "locked": true,
          "schema_version": 3,
          "solution": false,
          "task": false
        },
        "id": "c79c104a"
      },
      "source": [
        "## Exo 3 : overflows"
      ]
    },
    {
      "cell_type": "markdown",
      "id": "3602790a",
      "metadata": {
        "deletable": false,
        "editable": false,
        "nbgrader": {
          "cell_type": "markdown",
          "checksum": "4c7fa3fe27639632ff33f875f4abb47a",
          "grade": false,
          "grade_id": "cell-c2c7cef529b4eabd",
          "locked": true,
          "schema_version": 3,
          "solution": false,
          "task": false
        },
        "id": "3602790a"
      },
      "source": [
        "Les 3 \"évènements\" suivant correspondent au même bug : un dépassement de capacité d'entiers (signés ou non) codés sur 32 bits."
      ]
    },
    {
      "cell_type": "markdown",
      "id": "e074863b",
      "metadata": {
        "deletable": false,
        "editable": false,
        "nbgrader": {
          "cell_type": "markdown",
          "checksum": "c24c966d320353f29b84ea03dfa71b73",
          "grade": false,
          "grade_id": "cell-92b71c751a33c0e2",
          "locked": true,
          "schema_version": 3,
          "solution": false,
          "task": false
        },
        "id": "e074863b"
      },
      "source": [
        "La FAA (Federal Aviation Administration) publie en 2015 une [Airworthiness Directive ou AD](https://s3.amazonaws.com/public-inspection.federalregister.gov/2015-10066.pdf) (notification technique que les compagnies aériennes sont obligées de suivre) concernant un bug dans le logiciel des Boeing 787 : \"This AD was prompted by the determination that a Model 787 airplane that has been powered continuously for 248 days can lose all alternating current (AC) electrical power due to the generator control units (GCUs) simultaneously going into failsafe mode.\" Le logiciel mesure le temps depuis sa mise en route en incrémentant un compteur toutes les centisecondes.\n",
        "![](https://upload.wikimedia.org/wikipedia/commons/thumb/c/c8/ANA_B787-8%28JA802A%29_Dreamliner_%286665841781%29.jpg/1280px-ANA_B787-8%28JA802A%29_Dreamliner_%286665841781%29.jpg)"
      ]
    },
    {
      "cell_type": "markdown",
      "id": "8456271b",
      "metadata": {
        "deletable": false,
        "editable": false,
        "nbgrader": {
          "cell_type": "markdown",
          "checksum": "56fafda2277c5c68f2e9dccaf544692d",
          "grade": false,
          "grade_id": "cell-6b5b212e8e9dfb59",
          "locked": true,
          "schema_version": 3,
          "solution": false,
          "task": false
        },
        "id": "8456271b"
      },
      "source": [
        "D'après les informations fournies et vos réflexions, au bout de combien de centisecondes exactement, la capacité du compteur se trouve dépassée, expliquant le bug ?"
      ]
    },
    {
      "cell_type": "code",
      "execution_count": null,
      "id": "c6ad8557",
      "metadata": {
        "id": "c6ad8557"
      },
      "outputs": [],
      "source": [
        "# Vous affecterez la valeur entière à la variable nb_centi\n",
        "nb_centi = "
      ]
    },
    {
      "cell_type": "code",
      "execution_count": null,
      "id": "021a1039",
      "metadata": {
        "deletable": false,
        "editable": false,
        "nbgrader": {
          "cell_type": "code",
          "checksum": "50a2f0710f93a81e928117db7fdd8b1b",
          "grade": true,
          "grade_id": "cell-c2d06a4db39cb239",
          "locked": true,
          "points": 1,
          "schema_version": 3,
          "solution": false,
          "task": false
        },
        "id": "021a1039"
      },
      "outputs": [],
      "source": [
        "# Cellule d'évaluation, ne pas modifier"
      ]
    },
    {
      "cell_type": "markdown",
      "id": "3aefa485",
      "metadata": {
        "deletable": false,
        "editable": false,
        "nbgrader": {
          "cell_type": "markdown",
          "checksum": "b7963739fc915026a9da7b4536b59e5c",
          "grade": false,
          "grade_id": "cell-16f6e109b9d4c5d0",
          "locked": true,
          "schema_version": 3,
          "solution": false,
          "task": false
        },
        "id": "3aefa485"
      },
      "source": [
        "En 2004, l'oubli d'un technicien de rebooter un serveur a provoqué une immense pagaille dans le ciel californien. En effet, le 14 septembre, les aiguilleurs du ciel des aéroports du sud californien ont perdu le contact vocal avec 400 avions pendant plus de 3 heures, heureusement sans graves conséquences (grâce à la réaction rapide des contrôleurs qui ont tout de suite utilisé leurs portables pour contacter d'autres centres de contrôle aérien). La maintenance de routine du système de communication consistait à le rebooter tous les 30 jours. Ce système mesure le temps depuis sa mise en route en incrémentant un compteur toutes les millisecondes.\n",
        "![](https://blog.globalair.com/image.axd?picture=/2021/addi%20hemphill/radar.jpg)"
      ]
    },
    {
      "cell_type": "markdown",
      "id": "cb73503f",
      "metadata": {
        "id": "cb73503f"
      },
      "source": [
        "D'après les informations fournies et vos réflexions, au bout de combien de millisecondes exactement, la capacité du compteur s'est trouvée dépassée, expliquant le bug ?"
      ]
    },
    {
      "cell_type": "code",
      "execution_count": null,
      "id": "3a817532",
      "metadata": {
        "id": "3a817532"
      },
      "outputs": [],
      "source": [
        "# Vous affecterez la valeur entière à la variable nb_milli\n",
        "nb_centi = "
      ]
    },
    {
      "cell_type": "code",
      "execution_count": null,
      "id": "8d9c6ba9",
      "metadata": {
        "deletable": false,
        "editable": false,
        "nbgrader": {
          "cell_type": "code",
          "checksum": "c7c54a27fd3ca09994ffc02255edea3a",
          "grade": true,
          "grade_id": "cell-f991e34640beb8c1",
          "locked": true,
          "points": 1,
          "schema_version": 3,
          "solution": false,
          "task": false
        },
        "id": "8d9c6ba9"
      },
      "outputs": [],
      "source": [
        "# Cellule d'évaluation, ne pas modifier"
      ]
    },
    {
      "cell_type": "markdown",
      "id": "ab4cb6d9",
      "metadata": {
        "deletable": false,
        "editable": false,
        "nbgrader": {
          "cell_type": "markdown",
          "checksum": "a8dce6bb9c82896e3e66c6bc441bf5ad",
          "grade": false,
          "grade_id": "cell-42f2002df08a6cda",
          "locked": true,
          "schema_version": 3,
          "solution": false,
          "task": false
        },
        "id": "ab4cb6d9"
      },
      "source": [
        "Le bug de l'an 2038 concerne les horloges des systèmes unix 32 bits dont le temps 0, appelé *epoch*, est le 1 janvier 1970 à 00:00:00 UT."
      ]
    },
    {
      "cell_type": "code",
      "execution_count": null,
      "id": "eec3e4ed",
      "metadata": {
        "id": "eec3e4ed"
      },
      "outputs": [],
      "source": [
        "import time\n",
        "time.gmtime(0)"
      ]
    },
    {
      "cell_type": "markdown",
      "id": "ffe9c264",
      "metadata": {
        "deletable": false,
        "editable": false,
        "nbgrader": {
          "cell_type": "markdown",
          "checksum": "698af10bc1c57341c47afcfb75292747",
          "grade": false,
          "grade_id": "cell-3ad9e34cdd799c47",
          "locked": true,
          "schema_version": 3,
          "solution": false,
          "task": false
        },
        "id": "ffe9c264"
      },
      "source": [
        "Cela montre que les serveurs hébergeant Colab tournent sous Unix."
      ]
    },
    {
      "cell_type": "markdown",
      "id": "449b8968",
      "metadata": {
        "deletable": false,
        "editable": false,
        "nbgrader": {
          "cell_type": "markdown",
          "checksum": "838aef49ffcd1e98614f843ee4ad5ee2",
          "grade": false,
          "grade_id": "cell-4d9adc0f9fcce2b0",
          "locked": true,
          "schema_version": 3,
          "solution": false,
          "task": false
        },
        "id": "449b8968"
      },
      "source": [
        "Au bout de combien de secondes exactement le problème lié au bug de 2038 se pose ?"
      ]
    },
    {
      "cell_type": "code",
      "execution_count": null,
      "id": "71ebd9f3",
      "metadata": {
        "id": "71ebd9f3"
      },
      "outputs": [],
      "source": [
        "# Vous affecterez la valeur entière à la variable nb_sec\n",
        "nb_sec = "
      ]
    },
    {
      "cell_type": "code",
      "execution_count": null,
      "id": "f315c82b",
      "metadata": {
        "deletable": false,
        "editable": false,
        "nbgrader": {
          "cell_type": "code",
          "checksum": "0152409077b805a530c38b1b3461766e",
          "grade": true,
          "grade_id": "cell-1834830b5702d3b3",
          "locked": true,
          "points": 1,
          "schema_version": 3,
          "solution": false,
          "task": false
        },
        "id": "f315c82b"
      },
      "outputs": [],
      "source": [
        "# Cellule d'évaluation, ne pas modifier"
      ]
    },
    {
      "cell_type": "code",
      "execution_count": null,
      "id": "85e1b51f",
      "metadata": {
        "id": "85e1b51f"
      },
      "outputs": [],
      "source": [
        ""
      ]
    }
  ],
  "metadata": {
    "kernelspec": {
      "display_name": "Python 3",
      "language": "python",
      "name": "python3"
    },
    "language_info": {
      "codemirror_mode": {
        "name": "ipython",
        "version": 3
      },
      "file_extension": ".py",
      "mimetype": "text/x-python",
      "name": "python",
      "nbconvert_exporter": "python",
      "pygments_lexer": "ipython3",
      "version": "3.8.10"
    },
    "colab": {
      "name": "tp9.ipynb",
      "provenance": [],
      "include_colab_link": true
    }
  },
  "nbformat": 4,
  "nbformat_minor": 5
}